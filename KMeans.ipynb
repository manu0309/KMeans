{
 "cells": [
  {
   "cell_type": "markdown",
   "metadata": {},
   "source": [
    "### Implementation of KMeans Clustering Algorithm "
   ]
  },
  {
   "cell_type": "code",
   "execution_count": 50,
   "metadata": {},
   "outputs": [],
   "source": [
    "from sklearn.datasets import load_iris\n",
    "iris = load_iris()"
   ]
  },
  {
   "cell_type": "code",
   "execution_count": 51,
   "metadata": {},
   "outputs": [
    {
     "name": "stdout",
     "output_type": "stream",
     "text": [
      "['sepal length (cm)', 'sepal width (cm)', 'petal length (cm)', 'petal width (cm)']\n",
      "['setosa' 'versicolor' 'virginica']\n",
      "[5.1 3.5 1.4 0.2]\n",
      "0\n"
     ]
    }
   ],
   "source": [
    "print(iris.feature_names)\n",
    "print(iris.target_names)\n",
    "print(iris.data[0])\n",
    "print(iris.target[0])"
   ]
  },
  {
   "cell_type": "code",
   "execution_count": 52,
   "metadata": {},
   "outputs": [],
   "source": [
    "import numpy as np\n",
    "import random\n",
    "\n",
    "X = iris.data\n",
    "size = len(iris.data)\n",
    "feature_size = len(iris.feature_names)\n",
    "\n",
    "k_clusters = 3\n",
    "\n",
    "k_centroid = random.sample(range(0,150), k_clusters)\n",
    "centroid = X[k_centroid]\n",
    "\n",
    "map = np.zeros(size,dtype=int)\n",
    "prevMap = np.zeros(size,dtype=int)\n",
    "\n",
    "while True:\n",
    "    \n",
    "    for i in range(size):\n",
    "        dist = []\n",
    "        for k in centroid:\n",
    "            sum=0\n",
    "            for j in range(feature_size):\n",
    "                sum += abs(X[i][j]-k[j])**2\n",
    "            dist.append(sum**(1/2))   \n",
    "        mindist = min(dist)\n",
    "        for l in range(k_clusters):\n",
    "            if dist[l]==mindist:\n",
    "                map[i]=l+1\n",
    "    \n",
    "    if np.array_equal(prevMap,map):\n",
    "        break;\n",
    "    \n",
    "    new_centroid = []\n",
    "    mattoplot=[]\n",
    "    count=np.zeros(k_clusters,dtype=int) \n",
    "    for i in range(k_clusters):\n",
    "        x1 = np.zeros(feature_size)\n",
    "        for j in range(size):\n",
    "            if map[j]==i+1:\n",
    "                mattoplot.append(list(X[j]))\n",
    "                x1 = np.add(x1,X[j])\n",
    "                count[i]+=1\n",
    "        new_centroid.append(np.divide(x1,count[i]))        \n",
    "    centroid = np.array(new_centroid) \n",
    "    \n",
    "    prevMap = map;\n",
    "    "
   ]
  },
  {
   "cell_type": "code",
   "execution_count": 66,
   "metadata": {},
   "outputs": [
    {
     "name": "stdout",
     "output_type": "stream",
     "text": [
      "[[5.57       2.65333333 3.99       1.24      ]\n",
      " [5.006      3.418      1.464      0.244     ]\n",
      " [6.55857143 2.96571429 5.29857143 1.86285714]]\n"
     ]
    }
   ],
   "source": [
    "print(centroid)"
   ]
  },
  {
   "cell_type": "code",
   "execution_count": 54,
   "metadata": {},
   "outputs": [
    {
     "name": "stdout",
     "output_type": "stream",
     "text": [
      "150\n",
      "[30 50 70]\n"
     ]
    }
   ],
   "source": [
    "print(len(mattoplot))\n",
    "print(count)"
   ]
  },
  {
   "cell_type": "code",
   "execution_count": 65,
   "metadata": {},
   "outputs": [],
   "source": [
    "a = np.array(mattoplot)\n",
    "m = a[...,0]\n",
    "n = a[...,1]"
   ]
  },
  {
   "cell_type": "code",
   "execution_count": 64,
   "metadata": {},
   "outputs": [
    {
     "data": {
      "image/png": "[encoded data removed]",
      "text/plain": [
       "<matplotlib.figure.Figure at 0x7fc85f41db38>"
      ]
     },
     "metadata": {},
     "output_type": "display_data"
    }
   ],
   "source": [
    "import matplotlib.pyplot as plt\n",
    "plt.plot(m[0:30], n[0:30],  'ro')\n",
    "plt.plot(m[30:80], n[30:80],  'bo')\n",
    "plt.plot(m[80:150], n[80:150],  'go')\n",
    "plt.ylabel('sepal length')\n",
    "plt.xlabel('sepal width')\n",
    "plt.show()"
   ]
  }
 ],
 "metadata": {
  "kernelspec": {
   "display_name": "Python 3",
   "language": "python",
   "name": "python3"
  },
  "language_info": {
   "codemirror_mode": {
    "name": "ipython",
    "version": 3
   },
   "file_extension": ".py",
   "mimetype": "text/x-python",
   "name": "python",
   "nbconvert_exporter": "python",
   "pygments_lexer": "ipython3",
   "version": "3.6.4"
  }
 },
 "nbformat": 4,
 "nbformat_minor": 2
}
